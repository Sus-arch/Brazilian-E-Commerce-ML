{
 "cells": [
  {
   "cell_type": "code",
   "execution_count": 8,
   "outputs": [],
   "source": [
    "import pandas as pd\n",
    "import numpy as np\n",
    "import seaborn as sns\n",
    "import matplotlib.pyplot as plt\n",
    "%matplotlib inline"
   ],
   "metadata": {
    "collapsed": false,
    "pycharm": {
     "name": "#%%\n"
    }
   }
  },
  {
   "cell_type": "markdown",
   "source": [
    "Загружаем таблицы"
   ],
   "metadata": {
    "collapsed": false,
    "pycharm": {
     "name": "#%% md\n"
    }
   }
  },
  {
   "cell_type": "code",
   "execution_count": 9,
   "outputs": [],
   "source": [
    "orders = pd.read_csv(\"../dataset/olist_orders_dataset.csv\")\n",
    "order_items = pd.read_csv(\"../dataset/olist_order_items_dataset.csv\")\n",
    "customers = pd.read_csv(\"../dataset/olist_customers_dataset.csv\")\n",
    "products = pd.read_csv(\"../dataset/olist_products_dataset.csv\")\n",
    "sellers = pd.read_csv(\"../dataset/olist_sellers_dataset.csv\")\n",
    "order_reviews = pd.read_csv(\"../dataset/olist_order_reviews_dataset.csv\")\n",
    "order_payments = pd.read_csv(\"../dataset/olist_order_payments_dataset.csv\")\n",
    "product_translation = pd.read_csv(\"../dataset/product_category_name_translation.csv\")"
   ],
   "metadata": {
    "collapsed": false,
    "pycharm": {
     "name": "#%%\n"
    }
   }
  },
  {
   "cell_type": "markdown",
   "source": [
    "Перевод названий продуктов на английский"
   ],
   "metadata": {
    "collapsed": false,
    "pycharm": {
     "name": "#%% md\n"
    }
   }
  },
  {
   "cell_type": "code",
   "execution_count": 10,
   "outputs": [],
   "source": [
    "products = products.merge(product_translation, on='product_category_name', how='left')"
   ],
   "metadata": {
    "collapsed": false,
    "pycharm": {
     "name": "#%%\n"
    }
   }
  },
  {
   "cell_type": "markdown",
   "source": [
    "Объединяем таблицы"
   ],
   "metadata": {
    "collapsed": false,
    "pycharm": {
     "name": "#%% md\n"
    }
   }
  },
  {
   "cell_type": "code",
   "execution_count": 11,
   "outputs": [],
   "source": [
    "order_items_full = order_items.merge(products, on='product_id', how='left')\n",
    "order_items_full = order_items_full.merge(sellers, on='seller_id', how='left')"
   ],
   "metadata": {
    "collapsed": false,
    "pycharm": {
     "name": "#%%\n"
    }
   }
  },
  {
   "cell_type": "code",
   "execution_count": 12,
   "outputs": [],
   "source": [
    "orders_full = orders.merge(order_items_full, on='order_id', how='left')\n",
    "orders_full = orders_full.merge(customers, on='customer_id', how='left')\n",
    "orders_full = orders_full.merge(order_reviews[['order_id','review_score']], on='order_id', how='left')"
   ],
   "metadata": {
    "collapsed": false,
    "pycharm": {
     "name": "#%%\n"
    }
   }
  },
  {
   "cell_type": "code",
   "execution_count": 13,
   "outputs": [],
   "source": [
    "payments_agg = order_payments.groupby('order_id').agg({\n",
    "    'payment_value':'sum',\n",
    "    'payment_type': lambda x: x.mode()[0]\n",
    "}).reset_index()\n",
    "orders_full = orders_full.merge(payments_agg, on='order_id', how='left')"
   ],
   "metadata": {
    "collapsed": false,
    "pycharm": {
     "name": "#%%\n"
    }
   }
  },
  {
   "cell_type": "code",
   "execution_count": 14,
   "outputs": [
    {
     "name": "stdout",
     "output_type": "stream",
     "text": [
      "(114092, 33)\n"
     ]
    },
    {
     "data": {
      "text/plain": "                           order_id                       customer_id  \\\n0  e481f51cbdc54678b7cc49136f2d6af7  9ef432eb6251297304e76186b10a928d   \n1  53cdb2fc8bc7dce0b6741e2150273451  b0830fb4747a6c6d20dea0b8c802d7ef   \n2  47770eb9100c2d0c44946d9cf07ec65d  41ce2a54c0b03bf3443c3d931a367089   \n3  949d5b44dbf5de918fe9c16f97b45f8a  f88197465ea7920adcdbec7375364d82   \n4  ad21c59c0840e6cb83a9ceb5573f8159  8ab97904e6daea8866dbdbc4fb7aad2c   \n\n  order_status order_purchase_timestamp    order_approved_at  \\\n0    delivered      2017-10-02 10:56:33  2017-10-02 11:07:15   \n1    delivered      2018-07-24 20:41:37  2018-07-26 03:24:27   \n2    delivered      2018-08-08 08:38:49  2018-08-08 08:55:23   \n3    delivered      2017-11-18 19:28:06  2017-11-18 19:45:59   \n4    delivered      2018-02-13 21:18:39  2018-02-13 22:20:29   \n\n  order_delivered_carrier_date order_delivered_customer_date  \\\n0          2017-10-04 19:55:00           2017-10-10 21:25:13   \n1          2018-07-26 14:31:00           2018-08-07 15:27:45   \n2          2018-08-08 13:50:00           2018-08-17 18:06:29   \n3          2017-11-22 13:39:59           2017-12-02 00:28:42   \n4          2018-02-14 19:46:34           2018-02-16 18:17:02   \n\n  order_estimated_delivery_date  order_item_id  \\\n0           2017-10-18 00:00:00            1.0   \n1           2018-08-13 00:00:00            1.0   \n2           2018-09-04 00:00:00            1.0   \n3           2017-12-15 00:00:00            1.0   \n4           2018-02-26 00:00:00            1.0   \n\n                         product_id  ... seller_zip_code_prefix  \\\n0  87285b34884572647811a353c7ac498a  ...                 9350.0   \n1  595fac2a385ac33a80bd5114aec74eb8  ...                31570.0   \n2  aa4383b373c6aca5d8797843e5594415  ...                14840.0   \n3  d0b61bfb1de832b15ba9d266ca96e5b0  ...                31842.0   \n4  65266b2da20d04dbe00c5c2d3bb7859e  ...                 8752.0   \n\n       seller_city  seller_state                customer_unique_id  \\\n0             maua            SP  7c396fd4830fd04220f754e42b4e5bff   \n1   belo horizonte            SP  af07308b275d755c9edb36a90c618231   \n2          guariba            SP  3a653a41f6f9fc3d2a113cf8398680e8   \n3   belo horizonte            MG  7c142cf63193a1473d2e66489a9ae977   \n4  mogi das cruzes            SP  72632f0f9dd73dfee390c9b22eb56dd6   \n\n  customer_zip_code_prefix            customer_city  customer_state  \\\n0                     3149                sao paulo              SP   \n1                    47813                barreiras              BA   \n2                    75265               vianopolis              GO   \n3                    59296  sao goncalo do amarante              RN   \n4                     9195              santo andre              SP   \n\n   review_score  payment_value  payment_type  \n0           4.0          38.71       voucher  \n1           4.0         141.46        boleto  \n2           5.0         179.12   credit_card  \n3           5.0          72.20   credit_card  \n4           5.0          28.62   credit_card  \n\n[5 rows x 33 columns]",
      "text/html": "<div>\n<style scoped>\n    .dataframe tbody tr th:only-of-type {\n        vertical-align: middle;\n    }\n\n    .dataframe tbody tr th {\n        vertical-align: top;\n    }\n\n    .dataframe thead th {\n        text-align: right;\n    }\n</style>\n<table border=\"1\" class=\"dataframe\">\n  <thead>\n    <tr style=\"text-align: right;\">\n      <th></th>\n      <th>order_id</th>\n      <th>customer_id</th>\n      <th>order_status</th>\n      <th>order_purchase_timestamp</th>\n      <th>order_approved_at</th>\n      <th>order_delivered_carrier_date</th>\n      <th>order_delivered_customer_date</th>\n      <th>order_estimated_delivery_date</th>\n      <th>order_item_id</th>\n      <th>product_id</th>\n      <th>...</th>\n      <th>seller_zip_code_prefix</th>\n      <th>seller_city</th>\n      <th>seller_state</th>\n      <th>customer_unique_id</th>\n      <th>customer_zip_code_prefix</th>\n      <th>customer_city</th>\n      <th>customer_state</th>\n      <th>review_score</th>\n      <th>payment_value</th>\n      <th>payment_type</th>\n    </tr>\n  </thead>\n  <tbody>\n    <tr>\n      <th>0</th>\n      <td>e481f51cbdc54678b7cc49136f2d6af7</td>\n      <td>9ef432eb6251297304e76186b10a928d</td>\n      <td>delivered</td>\n      <td>2017-10-02 10:56:33</td>\n      <td>2017-10-02 11:07:15</td>\n      <td>2017-10-04 19:55:00</td>\n      <td>2017-10-10 21:25:13</td>\n      <td>2017-10-18 00:00:00</td>\n      <td>1.0</td>\n      <td>87285b34884572647811a353c7ac498a</td>\n      <td>...</td>\n      <td>9350.0</td>\n      <td>maua</td>\n      <td>SP</td>\n      <td>7c396fd4830fd04220f754e42b4e5bff</td>\n      <td>3149</td>\n      <td>sao paulo</td>\n      <td>SP</td>\n      <td>4.0</td>\n      <td>38.71</td>\n      <td>voucher</td>\n    </tr>\n    <tr>\n      <th>1</th>\n      <td>53cdb2fc8bc7dce0b6741e2150273451</td>\n      <td>b0830fb4747a6c6d20dea0b8c802d7ef</td>\n      <td>delivered</td>\n      <td>2018-07-24 20:41:37</td>\n      <td>2018-07-26 03:24:27</td>\n      <td>2018-07-26 14:31:00</td>\n      <td>2018-08-07 15:27:45</td>\n      <td>2018-08-13 00:00:00</td>\n      <td>1.0</td>\n      <td>595fac2a385ac33a80bd5114aec74eb8</td>\n      <td>...</td>\n      <td>31570.0</td>\n      <td>belo horizonte</td>\n      <td>SP</td>\n      <td>af07308b275d755c9edb36a90c618231</td>\n      <td>47813</td>\n      <td>barreiras</td>\n      <td>BA</td>\n      <td>4.0</td>\n      <td>141.46</td>\n      <td>boleto</td>\n    </tr>\n    <tr>\n      <th>2</th>\n      <td>47770eb9100c2d0c44946d9cf07ec65d</td>\n      <td>41ce2a54c0b03bf3443c3d931a367089</td>\n      <td>delivered</td>\n      <td>2018-08-08 08:38:49</td>\n      <td>2018-08-08 08:55:23</td>\n      <td>2018-08-08 13:50:00</td>\n      <td>2018-08-17 18:06:29</td>\n      <td>2018-09-04 00:00:00</td>\n      <td>1.0</td>\n      <td>aa4383b373c6aca5d8797843e5594415</td>\n      <td>...</td>\n      <td>14840.0</td>\n      <td>guariba</td>\n      <td>SP</td>\n      <td>3a653a41f6f9fc3d2a113cf8398680e8</td>\n      <td>75265</td>\n      <td>vianopolis</td>\n      <td>GO</td>\n      <td>5.0</td>\n      <td>179.12</td>\n      <td>credit_card</td>\n    </tr>\n    <tr>\n      <th>3</th>\n      <td>949d5b44dbf5de918fe9c16f97b45f8a</td>\n      <td>f88197465ea7920adcdbec7375364d82</td>\n      <td>delivered</td>\n      <td>2017-11-18 19:28:06</td>\n      <td>2017-11-18 19:45:59</td>\n      <td>2017-11-22 13:39:59</td>\n      <td>2017-12-02 00:28:42</td>\n      <td>2017-12-15 00:00:00</td>\n      <td>1.0</td>\n      <td>d0b61bfb1de832b15ba9d266ca96e5b0</td>\n      <td>...</td>\n      <td>31842.0</td>\n      <td>belo horizonte</td>\n      <td>MG</td>\n      <td>7c142cf63193a1473d2e66489a9ae977</td>\n      <td>59296</td>\n      <td>sao goncalo do amarante</td>\n      <td>RN</td>\n      <td>5.0</td>\n      <td>72.20</td>\n      <td>credit_card</td>\n    </tr>\n    <tr>\n      <th>4</th>\n      <td>ad21c59c0840e6cb83a9ceb5573f8159</td>\n      <td>8ab97904e6daea8866dbdbc4fb7aad2c</td>\n      <td>delivered</td>\n      <td>2018-02-13 21:18:39</td>\n      <td>2018-02-13 22:20:29</td>\n      <td>2018-02-14 19:46:34</td>\n      <td>2018-02-16 18:17:02</td>\n      <td>2018-02-26 00:00:00</td>\n      <td>1.0</td>\n      <td>65266b2da20d04dbe00c5c2d3bb7859e</td>\n      <td>...</td>\n      <td>8752.0</td>\n      <td>mogi das cruzes</td>\n      <td>SP</td>\n      <td>72632f0f9dd73dfee390c9b22eb56dd6</td>\n      <td>9195</td>\n      <td>santo andre</td>\n      <td>SP</td>\n      <td>5.0</td>\n      <td>28.62</td>\n      <td>credit_card</td>\n    </tr>\n  </tbody>\n</table>\n<p>5 rows × 33 columns</p>\n</div>"
     },
     "execution_count": 14,
     "metadata": {},
     "output_type": "execute_result"
    }
   ],
   "source": [
    "print(orders_full.shape)\n",
    "orders_full.head()"
   ],
   "metadata": {
    "collapsed": false,
    "pycharm": {
     "name": "#%%\n"
    }
   }
  },
  {
   "cell_type": "code",
   "execution_count": 14,
   "outputs": [],
   "source": [],
   "metadata": {
    "collapsed": false,
    "pycharm": {
     "name": "#%%\n"
    }
   }
  },
  {
   "cell_type": "code",
   "execution_count": 14,
   "outputs": [],
   "source": [],
   "metadata": {
    "collapsed": false,
    "pycharm": {
     "name": "#%%\n"
    }
   }
  }
 ],
 "metadata": {
  "kernelspec": {
   "display_name": "Python 3",
   "language": "python",
   "name": "python3"
  },
  "language_info": {
   "codemirror_mode": {
    "name": "ipython",
    "version": 2
   },
   "file_extension": ".py",
   "mimetype": "text/x-python",
   "name": "python",
   "nbconvert_exporter": "python",
   "pygments_lexer": "ipython2",
   "version": "2.7.6"
  }
 },
 "nbformat": 4,
 "nbformat_minor": 0
}